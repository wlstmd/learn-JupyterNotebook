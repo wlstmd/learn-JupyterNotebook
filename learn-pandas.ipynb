{
 "cells": [
  {
   "cell_type": "code",
   "execution_count": 22,
   "metadata": {},
   "outputs": [
    {
     "name": "stdout",
     "output_type": "stream",
     "text": [
      "        이름  나이  성별\n",
      "0    Alice  25  여성\n",
      "1      Bob  30  남성\n",
      "2  Charlie  35  남성\n",
      "0      Alice\n",
      "1        Bob\n",
      "2    Charlie\n",
      "Name: 이름, dtype: object\n",
      "이름    Alice\n",
      "나이       25\n",
      "성별       여성\n",
      "Name: 0, dtype: object\n",
      "        이름  나이  성별\n",
      "2  Charlie  35  남성\n",
      "        이름  나이  성별   직업\n",
      "0    Alice  25  여성   학생\n",
      "1      Bob  30  남성  회사원\n",
      "2  Charlie  35  남성   교수\n",
      "        이름  나이  성별   직업\n",
      "0    Alice  25  여성   학생\n",
      "1      Bob  30  남성  회사원\n",
      "2  Charlie  35  남성   교수\n",
      "3     Dave  40  남성  연구원\n",
      "        이름  나이  성별\n",
      "0    Alice  25  여성\n",
      "1      Bob  30  남성\n",
      "2  Charlie  35  남성\n",
      "3     Dave  40  남성\n",
      "      이름  나이  성별\n",
      "0  Alice  25  여성\n",
      "1    Bob  30  남성\n",
      "3   Dave  40  남성\n"
     ]
    }
   ],
   "source": [
    "import pandas as pd\n",
    "\n",
    "# 데이터프레임 생성\n",
    "data = {'이름': ['Alice', 'Bob', 'Charlie'],\n",
    "        '나이': [25, 30, 35],\n",
    "        '성별': ['여성', '남성', '남성']}\n",
    "df = pd.DataFrame(data)\n",
    "\n",
    "# 데이터프레임 출력\n",
    "print(df)\n",
    "\n",
    "# 특정 열 선택\n",
    "print(df['이름'])\n",
    "\n",
    "# 특정 행 선택\n",
    "print(df.loc[0])\n",
    "\n",
    "# 조건에 따른 행 선택\n",
    "print(df[df['나이'] > 30])\n",
    "\n",
    "# 열 추가\n",
    "df['직업'] = ['학생', '회사원', '교수']\n",
    "print(df)\n",
    "\n",
    "# 행 추가\n",
    "new_row = pd.DataFrame({'이름': ['Dave'], '나이': [40], '성별': ['남성'], '직업': ['연구원']})\n",
    "df = pd.concat([df, new_row], ignore_index=True)\n",
    "print(df)\n",
    "\n",
    "# 열 삭제\n",
    "df = df.drop('직업', axis=1)\n",
    "print(df)\n",
    "\n",
    "# 행 삭제\n",
    "df = df.drop(2)\n",
    "print(df)\n"
   ]
  },
  {
   "cell_type": "code",
   "execution_count": null,
   "metadata": {},
   "outputs": [],
   "source": []
  }
 ],
 "metadata": {
  "kernelspec": {
   "display_name": "base",
   "language": "python",
   "name": "python3"
  },
  "language_info": {
   "codemirror_mode": {
    "name": "ipython",
    "version": 3
   },
   "file_extension": ".py",
   "mimetype": "text/x-python",
   "name": "python",
   "nbconvert_exporter": "python",
   "pygments_lexer": "ipython3",
   "version": "3.11.5"
  }
 },
 "nbformat": 4,
 "nbformat_minor": 2
}
