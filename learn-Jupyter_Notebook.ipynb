{
 "cells": [
  {
   "cell_type": "code",
   "execution_count": 6,
   "id": "d0519ed8",
   "metadata": {},
   "outputs": [
    {
     "data": {
      "text/plain": [
       "10"
      ]
     },
     "execution_count": 6,
     "metadata": {},
     "output_type": "execute_result"
    }
   ],
   "source": [
    "x = 3\n",
    "y = 7\n",
    "x + y"
   ]
  },
  {
   "cell_type": "code",
   "execution_count": 3,
   "id": "232b5642",
   "metadata": {},
   "outputs": [
    {
     "name": "stdout",
     "output_type": "stream",
     "text": [
      "learn-Jupyter_Notebook.ipynb\n"
     ]
    }
   ],
   "source": [
    "!ls"
   ]
  },
  {
   "cell_type": "code",
   "execution_count": 6,
   "id": "216b788a",
   "metadata": {},
   "outputs": [
    {
     "name": "stdout",
     "output_type": "stream",
     "text": [
      "10\n"
     ]
    }
   ],
   "source": [
    "x = 10\n",
    "print(x)"
   ]
  },
  {
   "cell_type": "code",
   "execution_count": 8,
   "id": "d29b9749",
   "metadata": {},
   "outputs": [
    {
     "name": "stdout",
     "output_type": "stream",
     "text": [
      "양수입니다.\n"
     ]
    }
   ],
   "source": [
    "x = 5\n",
    "if x > 0:\n",
    "    print(\"양수입니다.\")\n",
    "else:\n",
    "    print(\"음수 또는 0입니다.\")"
   ]
  },
  {
   "cell_type": "code",
   "execution_count": 9,
   "id": "4f92927b",
   "metadata": {},
   "outputs": [
    {
     "name": "stdout",
     "output_type": "stream",
     "text": [
      "0\n",
      "1\n",
      "2\n",
      "3\n",
      "4\n"
     ]
    }
   ],
   "source": [
    "for i in range(5):\n",
    "    print(i)"
   ]
  },
  {
   "cell_type": "code",
   "execution_count": 10,
   "id": "b4ca3181",
   "metadata": {},
   "outputs": [
    {
     "name": "stdout",
     "output_type": "stream",
     "text": [
      "Hello!\n"
     ]
    }
   ],
   "source": [
    "def greet():\n",
    "    print(\"Hello!\")\n",
    "\n",
    "greet()\n"
   ]
  },
  {
   "cell_type": "code",
   "execution_count": null,
   "id": "1ea581c2",
   "metadata": {},
   "outputs": [],
   "source": []
  },
  {
   "cell_type": "code",
   "execution_count": 11,
   "id": "fe562e53",
   "metadata": {},
   "outputs": [
    {
     "name": "stdout",
     "output_type": "stream",
     "text": [
      "['호랑이', '하마', '사자', '고양이', '강아지']\n"
     ]
    }
   ],
   "source": [
    "# 리스트 생성하기\n",
    "\n",
    "# 리스트 여러 값을 입력받기 위해 사용한다 변수로만 처리한다면 변수가 여러개 필요하지만 리스트를 사용하면 리스트 하나로 여러값을 저장한다\n",
    "animals = [\"사자\", \"호랑이\", \"고양이\", \"강아지\"]\n",
    "\n",
    "# 데이터 접근하기\n",
    "name = animals[3]\n",
    "\n",
    "# 데이터 추가하기\n",
    "animals.append(\"하마\")  # append()함수는 리스트 맨 끝에 값을 저장하는 역할을 한다\n",
    "animals.append(1)\n",
    "\n",
    "#데이터 삭제하기\n",
    "del animals[-1]  # del 함수는 삭제를 담당한다\n",
    "\n",
    "# 리스트 슬라이싱\n",
    "slicing = animals[1:3]  # 슬라이싱함수는 값을 자르는데 사용한다 예제를 보면 1부터 3보다 작을때까지 자르고있다\n",
    "\n",
    "# 리스트 길이\n",
    "length = len(animals)  # len함수는 리스트의 길이를 반환하는 역할을 한다\n",
    "\n",
    "# 리스트 정렬\n",
    "animals.sort(reverse=True)  # sort함수는 정렬을 담당하는 함수이다\n",
    "\n",
    "print(animals)"
   ]
  },
  {
   "cell_type": "code",
   "execution_count": 12,
   "id": "f97d9691",
   "metadata": {},
   "outputs": [
    {
     "name": "stdout",
     "output_type": "stream",
     "text": [
      "눈 던지기 \n",
      "편의점에가서 김밥을 먹는다\n"
     ]
    }
   ],
   "source": [
    "# 조건문 1\n",
    "distance = 250\n",
    "                     # 조건문은 코드의 제어를 담당하는 역할을 한다\n",
    "if distance >= 200:  # 조건문은 조건의 식이 참이여야 수행한다\n",
    "    print(\"눈 던지기 \")\n",
    "else:\n",
    "    print(\"눈사람 만들기\")\n",
    "\n",
    "\n",
    "# 조건문 응용해서 실습하기\n",
    "money = 2000\n",
    "if money >= 20000:\n",
    "    print(\"치킨과 콜라를 먹는다\")\n",
    "elif money >= 10000:\n",
    "    print(\"떡볶이를 먹는다\")\n",
    "else:\n",
    "    print(\"편의점에가서 김밥을 먹는다\")"
   ]
  },
  {
   "cell_type": "code",
   "execution_count": null,
   "id": "6e395e02",
   "metadata": {},
   "outputs": [],
   "source": []
  }
 ],
 "metadata": {
  "kernelspec": {
   "display_name": "Python 3 (ipykernel)",
   "language": "python",
   "name": "python3"
  },
  "language_info": {
   "codemirror_mode": {
    "name": "ipython",
    "version": 3
   },
   "file_extension": ".py",
   "mimetype": "text/x-python",
   "name": "python",
   "nbconvert_exporter": "python",
   "pygments_lexer": "ipython3",
   "version": "3.11.5"
  }
 },
 "nbformat": 4,
 "nbformat_minor": 5
}
