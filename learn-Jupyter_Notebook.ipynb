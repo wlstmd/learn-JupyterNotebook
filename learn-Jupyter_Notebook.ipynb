{
 "cells": [
  {
   "cell_type": "code",
   "execution_count": 6,
   "id": "d0519ed8",
   "metadata": {},
   "outputs": [
    {
     "data": {
      "text/plain": [
       "10"
      ]
     },
     "execution_count": 6,
     "metadata": {},
     "output_type": "execute_result"
    }
   ],
   "source": [
    "x = 3\n",
    "y = 7\n",
    "x + y"
   ]
  },
  {
   "cell_type": "code",
   "execution_count": 3,
   "id": "232b5642",
   "metadata": {},
   "outputs": [
    {
     "name": "stdout",
     "output_type": "stream",
     "text": [
      "learn-Jupyter_Notebook.ipynb\n"
     ]
    }
   ],
   "source": [
    "!ls"
   ]
  },
  {
   "cell_type": "code",
   "execution_count": 6,
   "id": "216b788a",
   "metadata": {},
   "outputs": [
    {
     "name": "stdout",
     "output_type": "stream",
     "text": [
      "10\n"
     ]
    }
   ],
   "source": [
    "x = 10\n",
    "print(x)"
   ]
  },
  {
   "cell_type": "code",
   "execution_count": 8,
   "id": "d29b9749",
   "metadata": {},
   "outputs": [
    {
     "name": "stdout",
     "output_type": "stream",
     "text": [
      "양수입니다.\n"
     ]
    }
   ],
   "source": [
    "x = 5\n",
    "if x > 0:\n",
    "    print(\"양수입니다.\")\n",
    "else:\n",
    "    print(\"음수 또는 0입니다.\")"
   ]
  },
  {
   "cell_type": "code",
   "execution_count": 9,
   "id": "4f92927b",
   "metadata": {},
   "outputs": [
    {
     "name": "stdout",
     "output_type": "stream",
     "text": [
      "0\n",
      "1\n",
      "2\n",
      "3\n",
      "4\n"
     ]
    }
   ],
   "source": [
    "for i in range(5):\n",
    "    print(i)"
   ]
  },
  {
   "cell_type": "code",
   "execution_count": 10,
   "id": "b4ca3181",
   "metadata": {},
   "outputs": [
    {
     "name": "stdout",
     "output_type": "stream",
     "text": [
      "Hello!\n"
     ]
    }
   ],
   "source": [
    "def greet():\n",
    "    print(\"Hello!\")\n",
    "\n",
    "greet()\n"
   ]
  },
  {
   "cell_type": "code",
   "execution_count": null,
   "id": "1ea581c2",
   "metadata": {},
   "outputs": [],
   "source": []
  },
  {
   "cell_type": "code",
   "execution_count": 11,
   "id": "fe562e53",
   "metadata": {},
   "outputs": [
    {
     "name": "stdout",
     "output_type": "stream",
     "text": [
      "['호랑이', '하마', '사자', '고양이', '강아지']\n"
     ]
    }
   ],
   "source": [
    "# 리스트 생성하기\n",
    "\n",
    "# 리스트 여러 값을 입력받기 위해 사용한다 변수로만 처리한다면 변수가 여러개 필요하지만 리스트를 사용하면 리스트 하나로 여러값을 저장한다\n",
    "animals = [\"사자\", \"호랑이\", \"고양이\", \"강아지\"]\n",
    "\n",
    "# 데이터 접근하기\n",
    "name = animals[3]\n",
    "\n",
    "# 데이터 추가하기\n",
    "animals.append(\"하마\")  # append()함수는 리스트 맨 끝에 값을 저장하는 역할을 한다\n",
    "animals.append(1)\n",
    "\n",
    "#데이터 삭제하기\n",
    "del animals[-1]  # del 함수는 삭제를 담당한다\n",
    "\n",
    "# 리스트 슬라이싱\n",
    "slicing = animals[1:3]  # 슬라이싱함수는 값을 자르는데 사용한다 예제를 보면 1부터 3보다 작을때까지 자르고있다\n",
    "\n",
    "# 리스트 길이\n",
    "length = len(animals)  # len함수는 리스트의 길이를 반환하는 역할을 한다\n",
    "\n",
    "# 리스트 정렬\n",
    "animals.sort(reverse=True)  # sort함수는 정렬을 담당하는 함수이다\n",
    "\n",
    "print(animals)"
   ]
  },
  {
   "cell_type": "code",
   "execution_count": 12,
   "id": "f97d9691",
   "metadata": {},
   "outputs": [
    {
     "name": "stdout",
     "output_type": "stream",
     "text": [
      "눈 던지기 \n",
      "편의점에가서 김밥을 먹는다\n"
     ]
    }
   ],
   "source": [
    "# 조건문 1\n",
    "distance = 250\n",
    "                     # 조건문은 코드의 제어를 담당하는 역할을 한다\n",
    "if distance >= 200:  # 조건문은 조건의 식이 참이여야 수행한다\n",
    "    print(\"눈 던지기 \")\n",
    "else:\n",
    "    print(\"눈사람 만들기\")\n",
    "\n",
    "\n",
    "# 조건문 응용해서 실습하기\n",
    "money = 2000\n",
    "if money >= 20000:\n",
    "    print(\"치킨과 콜라를 먹는다\")\n",
    "elif money >= 10000:\n",
    "    print(\"떡볶이를 먹는다\")\n",
    "else:\n",
    "    print(\"편의점에가서 김밥을 먹는다\")"
   ]
  },
  {
   "cell_type": "code",
   "execution_count": 1,
   "id": "6e395e02",
   "metadata": {},
   "outputs": [
    {
     "data": {
      "text/plain": [
       "'\\nhello world\\n'"
      ]
     },
     "execution_count": 1,
     "metadata": {},
     "output_type": "execute_result"
    }
   ],
   "source": [
    "#hello world\n",
    "'''\n",
    "hello world\n",
    "'''"
   ]
  },
  {
   "cell_type": "code",
   "execution_count": 5,
   "id": "3d26618e",
   "metadata": {},
   "outputs": [
    {
     "name": "stdout",
     "output_type": "stream",
     "text": [
      "yujinseung\n",
      "<class 'int'>\n",
      "['__abs__', '__add__', '__and__', '__bool__', '__ceil__', '__class__', '__delattr__', '__dir__', '__divmod__', '__doc__', '__eq__', '__float__', '__floor__', '__floordiv__', '__format__', '__ge__', '__getattribute__', '__getnewargs__', '__getstate__', '__gt__', '__hash__', '__index__', '__init__', '__init_subclass__', '__int__', '__invert__', '__le__', '__lshift__', '__lt__', '__mod__', '__mul__', '__ne__', '__neg__', '__new__', '__or__', '__pos__', '__pow__', '__radd__', '__rand__', '__rdivmod__', '__reduce__', '__reduce_ex__', '__repr__', '__rfloordiv__', '__rlshift__', '__rmod__', '__rmul__', '__ror__', '__round__', '__rpow__', '__rrshift__', '__rshift__', '__rsub__', '__rtruediv__', '__rxor__', '__setattr__', '__sizeof__', '__str__', '__sub__', '__subclasshook__', '__truediv__', '__trunc__', '__xor__', 'as_integer_ratio', 'bit_count', 'bit_length', 'conjugate', 'denominator', 'from_bytes', 'imag', 'numerator', 'real', 'to_bytes']\n"
     ]
    }
   ],
   "source": [
    "a = 10 #int\n",
    "b = 10.1 #float\n",
    "c = 'hello world' #str\n",
    "d = -1\n",
    "e = 'yu'\n",
    "f = 'jinseung'\n",
    "g = 10 + 2j\n",
    "h = 0b1001\n",
    "i = 0o1001\n",
    "j = 0x1001\n",
    "print(e + f)\n",
    "print(type(a))\n",
    "print(dir(a))"
   ]
  },
  {
   "cell_type": "code",
   "execution_count": 13,
   "id": "38a33ed9",
   "metadata": {},
   "outputs": [
    {
     "name": "stdout",
     "output_type": "stream",
     "text": [
      "<class 'str'>\n",
      "jnen\n",
      "gnuesni\n"
     ]
    }
   ],
   "source": [
    "s = 'jinseung'\n",
    "print(type(s))\n",
    "# print(dir(s))\n",
    "print(s[0:8:2])\n",
    "print(s[10:0:-1])"
   ]
  },
  {
   "cell_type": "code",
   "execution_count": 27,
   "id": "3722d7bb",
   "metadata": {},
   "outputs": [
    {
     "name": "stdout",
     "output_type": "stream",
     "text": [
      "jin seung yu!\n",
      "['     jin seung yu', '       ']\n",
      "제 이름은 진승입니다. 제 나이는 18입니다.\n"
     ]
    }
   ],
   "source": [
    "s = '     jin seung yu!       '\n",
    "print(s.strip())\n",
    "print(s.split('!'))\n",
    "print('제 이름은 {}입니다. 제 나이는 {}입니다.'.format('진승', '18'))\n"
   ]
  },
  {
   "cell_type": "code",
   "execution_count": 30,
   "id": "14fb30e6",
   "metadata": {},
   "outputs": [
    {
     "name": "stdout",
     "output_type": "stream",
     "text": [
      "2023/1/1 2023 1 1\n"
     ]
    }
   ],
   "source": [
    "a = 2023\n",
    "b = 1\n",
    "c = 1\n",
    "print(a, b, c, sep='/', end=' ')\n",
    "print(a, b, c)"
   ]
  }
 ],
 "metadata": {
  "kernelspec": {
   "display_name": "Python 3 (ipykernel)",
   "language": "python",
   "name": "python3"
  },
  "language_info": {
   "codemirror_mode": {
    "name": "ipython",
    "version": 3
   },
   "file_extension": ".py",
   "mimetype": "text/x-python",
   "name": "python",
   "nbconvert_exporter": "python",
   "pygments_lexer": "ipython3",
   "version": "3.11.5"
  }
 },
 "nbformat": 4,
 "nbformat_minor": 5
}
