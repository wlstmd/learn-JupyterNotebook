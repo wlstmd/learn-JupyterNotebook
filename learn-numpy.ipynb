{
 "cells": [
  {
   "cell_type": "code",
   "execution_count": 2,
   "metadata": {},
   "outputs": [],
   "source": [
    "import numpy as np"
   ]
  },
  {
   "cell_type": "code",
   "execution_count": 4,
   "metadata": {},
   "outputs": [
    {
     "data": {
      "text/plain": [
       "array([[1, 2, 3],\n",
       "       [4, 5, 6],\n",
       "       [7, 8, 9]])"
      ]
     },
     "execution_count": 4,
     "metadata": {},
     "output_type": "execute_result"
    }
   ],
   "source": [
    "data = [[1, 2, 3], [4, 5, 6], [7, 8 , 9]]\n",
    "\n",
    "a = np.array(data)\n",
    "a"
   ]
  },
  {
   "cell_type": "code",
   "execution_count": 6,
   "metadata": {},
   "outputs": [
    {
     "data": {
      "text/plain": [
       "dtype('int64')"
      ]
     },
     "execution_count": 6,
     "metadata": {},
     "output_type": "execute_result"
    }
   ],
   "source": [
    "a.dtype"
   ]
  },
  {
   "cell_type": "code",
   "execution_count": 12,
   "metadata": {},
   "outputs": [
    {
     "data": {
      "text/plain": [
       "array([[1., 2., 3.],\n",
       "       [4., 5., 6.],\n",
       "       [7., 8., 9.]], dtype=float32)"
      ]
     },
     "execution_count": 12,
     "metadata": {},
     "output_type": "execute_result"
    }
   ],
   "source": [
    "a = a.astype(np.float32)\n",
    "a"
   ]
  },
  {
   "cell_type": "code",
   "execution_count": 13,
   "metadata": {},
   "outputs": [
    {
     "data": {
      "text/plain": [
       "2.0"
      ]
     },
     "execution_count": 13,
     "metadata": {},
     "output_type": "execute_result"
    }
   ],
   "source": [
    "a[0][1]"
   ]
  },
  {
   "cell_type": "code",
   "execution_count": 15,
   "metadata": {},
   "outputs": [
    {
     "data": {
      "text/plain": [
       "array([1, 3, 5, 7, 9])"
      ]
     },
     "execution_count": 15,
     "metadata": {},
     "output_type": "execute_result"
    }
   ],
   "source": [
    "np.arange(1, 10, 2)"
   ]
  },
  {
   "cell_type": "code",
   "execution_count": 17,
   "metadata": {},
   "outputs": [
    {
     "data": {
      "text/plain": [
       "array([[1, 2, 3],\n",
       "       [4, 5, 6],\n",
       "       [7, 8, 9]])"
      ]
     },
     "execution_count": 17,
     "metadata": {},
     "output_type": "execute_result"
    }
   ],
   "source": [
    "np.arange(1, 10).reshape(3, 3)"
   ]
  },
  {
   "cell_type": "code",
   "execution_count": 21,
   "metadata": {},
   "outputs": [
    {
     "data": {
      "text/plain": [
       "array([[ 1,  2,  3,  4],\n",
       "       [ 5,  6,  7,  8],\n",
       "       [ 9, 10, 11, 12]])"
      ]
     },
     "execution_count": 21,
     "metadata": {},
     "output_type": "execute_result"
    }
   ],
   "source": [
    "np.arange(1, 13).reshape(3, 4)"
   ]
  },
  {
   "cell_type": "code",
   "execution_count": 23,
   "metadata": {},
   "outputs": [
    {
     "data": {
      "text/plain": [
       "array([[[ 1,  2],\n",
       "        [ 3,  4]],\n",
       "\n",
       "       [[ 5,  6],\n",
       "        [ 7,  8]],\n",
       "\n",
       "       [[ 9, 10],\n",
       "        [11, 12]]])"
      ]
     },
     "execution_count": 23,
     "metadata": {},
     "output_type": "execute_result"
    }
   ],
   "source": [
    "np.arange(1, 13).reshape(3, 2, 2)"
   ]
  },
  {
   "cell_type": "code",
   "execution_count": 25,
   "metadata": {},
   "outputs": [
    {
     "data": {
      "text/plain": [
       "nan"
      ]
     },
     "execution_count": 25,
     "metadata": {},
     "output_type": "execute_result"
    }
   ],
   "source": [
    "np.nan * 1"
   ]
  },
  {
   "cell_type": "code",
   "execution_count": 33,
   "metadata": {},
   "outputs": [
    {
     "data": {
      "text/plain": [
       "array([ 1.,  2.,  3.,  4.,  5.,  6.,  7.,  8.,  9., 10.])"
      ]
     },
     "execution_count": 33,
     "metadata": {},
     "output_type": "execute_result"
    }
   ],
   "source": [
    "a = np.linspace(1, 10, 10)\n",
    "a"
   ]
  },
  {
   "cell_type": "code",
   "execution_count": 36,
   "metadata": {},
   "outputs": [
    {
     "data": {
      "text/plain": [
       "array([[1, 2, 3],\n",
       "       [4, 5, 6],\n",
       "       [7, 8, 9]])"
      ]
     },
     "execution_count": 36,
     "metadata": {},
     "output_type": "execute_result"
    }
   ],
   "source": [
    "data  = np.arange(1, 10).reshape(3, 3)\n",
    "data"
   ]
  },
  {
   "cell_type": "code",
   "execution_count": 38,
   "metadata": {},
   "outputs": [
    {
     "data": {
      "text/plain": [
       "array([[ 2,  4,  6],\n",
       "       [ 8, 10, 12],\n",
       "       [14, 16, 18]])"
      ]
     },
     "execution_count": 38,
     "metadata": {},
     "output_type": "execute_result"
    }
   ],
   "source": [
    "data + data"
   ]
  },
  {
   "cell_type": "code",
   "execution_count": 43,
   "metadata": {},
   "outputs": [
    {
     "name": "stdout",
     "output_type": "stream",
     "text": [
      "Original array:  [1 2 3]\n",
      "Addition:  [2 3 4]\n",
      "Subtraction:  [0 1 2]\n",
      "Multiplication:  [2 4 6]\n",
      "Division:  [0.5 1.  1.5]\n",
      "Exponential:  [ 2.71828183  7.3890561  20.08553692]\n",
      "Natural log:  [0.         0.69314718 1.09861229]\n",
      "Base 10 log:  [0.         0.30103    0.47712125]\n",
      "Sine:  [0.84147098 0.90929743 0.14112001]\n",
      "Cosine:  [ 0.54030231 -0.41614684 -0.9899925 ]\n",
      "Tangent:  [ 1.55740772 -2.18503986 -0.14254654]\n",
      "Max:  5\n",
      "Min:  1\n",
      "Mean:  3.0\n",
      "Median:  3.0\n",
      "Variance:  2.0\n",
      "Standard deviation:  1.4142135623730951\n",
      "Sum:  15\n",
      "Cumulative sum:  [ 1  3  6 10 15]\n",
      "Matrix multiplication:  [[ 7 10]\n",
      " [15 22]]\n",
      "Transpose:  [[1 3]\n",
      " [2 4]]\n",
      "Inverse:  [[-2.   1. ]\n",
      " [ 1.5 -0.5]]\n",
      "Determinant:  -2.0000000000000004\n",
      "Eigenvalues:  [-0.37228132  5.37228132]\n",
      "Eigenvectors:  [[-0.82456484 -0.41597356]\n",
      " [ 0.56576746 -0.90937671]]\n"
     ]
    }
   ],
   "source": [
    "# 수학적 연산\n",
    "arr = np.array([1, 2, 3])\n",
    "print(\"Original array: \", arr)\n",
    "\n",
    "# 사칙연산\n",
    "print(\"Addition: \", np.add(arr, 1))\n",
    "print(\"Subtraction: \", np.subtract(arr, 1))\n",
    "print(\"Multiplication: \", np.multiply(arr, 2))\n",
    "print(\"Division: \", np.divide(arr, 2))\n",
    "\n",
    "# 지수와 로그\n",
    "print(\"Exponential: \", np.exp(arr))\n",
    "print(\"Natural log: \", np.log(arr))\n",
    "print(\"Base 10 log: \", np.log10(arr))\n",
    "\n",
    "# 삼각함수\n",
    "print(\"Sine: \", np.sin(arr))\n",
    "print(\"Cosine: \", np.cos(arr))\n",
    "print(\"Tangent: \", np.tan(arr))\n",
    "\n",
    "# 통계적 연산\n",
    "arr2 = np.array([1, 2, 3, 4, 5])\n",
    "\n",
    "print(\"Max: \", np.max(arr2))\n",
    "print(\"Min: \", np.min(arr2))\n",
    "print(\"Mean: \", np.mean(arr2))\n",
    "print(\"Median: \", np.median(arr2))\n",
    "print(\"Variance: \", np.var(arr2))\n",
    "print(\"Standard deviation: \", np.std(arr2))\n",
    "print(\"Sum: \", np.sum(arr2))\n",
    "print(\"Cumulative sum: \", np.cumsum(arr2))\n",
    "\n",
    "# 선형대수 연산\n",
    "arr3 = np.array([[1, 2], [3, 4]])\n",
    "\n",
    "print(\"Matrix multiplication: \", np.dot(arr3, arr3))\n",
    "print(\"Transpose: \", arr3.T)\n",
    "print(\"Inverse: \", np.linalg.inv(arr3))\n",
    "print(\"Determinant: \", np.linalg.det(arr3))\n",
    "\n",
    "eig_val, eig_vec = np.linalg.eig(arr3)\n",
    "print(\"Eigenvalues: \", eig_val)\n",
    "print(\"Eigenvectors: \", eig_vec)\n"
   ]
  },
  {
   "cell_type": "code",
   "execution_count": null,
   "metadata": {},
   "outputs": [],
   "source": []
  }
 ],
 "metadata": {
  "kernelspec": {
   "display_name": "base",
   "language": "python",
   "name": "python3"
  },
  "language_info": {
   "codemirror_mode": {
    "name": "ipython",
    "version": 3
   },
   "file_extension": ".py",
   "mimetype": "text/x-python",
   "name": "python",
   "nbconvert_exporter": "python",
   "pygments_lexer": "ipython3",
   "version": "3.11.5"
  }
 },
 "nbformat": 4,
 "nbformat_minor": 2
}
